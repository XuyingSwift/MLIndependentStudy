{
 "cells": [
  {
   "cell_type": "code",
   "execution_count": 1,
   "id": "45650147-4389-4963-b762-da32af546f49",
   "metadata": {},
   "outputs": [],
   "source": [
    "import pandas as pd"
   ]
  },
  {
   "cell_type": "code",
   "execution_count": 4,
   "id": "322f1892-f789-4723-b96f-70e032279b97",
   "metadata": {},
   "outputs": [],
   "source": [
    "df = pd.read_csv(\"ackley.csv\")"
   ]
  },
  {
   "cell_type": "code",
   "execution_count": null,
   "id": "50b34bbf-c2f2-40bb-9be5-7285bb83f74f",
   "metadata": {},
   "outputs": [],
   "source": []
  }
 ],
 "metadata": {
  "kernelspec": {
   "display_name": "Python 3 (ipykernel)",
   "language": "python",
   "name": "python3"
  },
  "language_info": {
   "codemirror_mode": {
    "name": "ipython",
    "version": 3
   },
   "file_extension": ".py",
   "mimetype": "text/x-python",
   "name": "python",
   "nbconvert_exporter": "python",
   "pygments_lexer": "ipython3",
   "version": "3.11.5"
  }
 },
 "nbformat": 4,
 "nbformat_minor": 5
}
