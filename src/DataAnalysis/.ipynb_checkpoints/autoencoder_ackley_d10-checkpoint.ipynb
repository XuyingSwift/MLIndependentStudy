{
 "cells": [
  {
   "cell_type": "code",
   "execution_count": null,
   "id": "ee5312ef-eb5d-42c5-9d5d-9d7abd838e62",
   "metadata": {},
   "outputs": [],
   "source": [
    "autoencoder_ackley_d10"
   ]
  }
 ],
 "metadata": {
  "kernelspec": {
   "display_name": "Python 3 (ipykernel)",
   "language": "python",
   "name": "python3"
  },
  "language_info": {
   "codemirror_mode": {
    "name": "ipython",
    "version": 3
   },
   "file_extension": ".py",
   "mimetype": "text/x-python",
   "name": "python",
   "nbconvert_exporter": "python",
   "pygments_lexer": "ipython3",
   "version": "3.11.5"
  }
 },
 "nbformat": 4,
 "nbformat_minor": 5
}
